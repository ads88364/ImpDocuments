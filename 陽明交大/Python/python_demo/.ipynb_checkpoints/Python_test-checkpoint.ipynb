{
 "cells": [
  {
   "cell_type": "code",
   "execution_count": 3,
   "id": "4df81324-6c7e-47a4-a5a0-8ca4506416c4",
   "metadata": {},
   "outputs": [
    {
     "name": "stdout",
     "output_type": "stream",
     "text": [
      "  *  \n",
      " *** \n",
      "******\n"
     ]
    }
   ],
   "source": [
    "print('  ','*','  ',sep='',end=\"\\n\")\n",
    "print(' ','***',' ',sep='',end=\"\\n\")\n",
    "print('******',sep='',end=\"\\n\")"
   ]
  },
  {
   "cell_type": "code",
   "execution_count": 4,
   "id": "900ce41a-2a6c-4b81-80ab-2bf95b84bd79",
   "metadata": {},
   "outputs": [
    {
     "name": "stdin",
     "output_type": "stream",
     "text": [
      "很隨便的一段文字 apple\n"
     ]
    },
    {
     "name": "stdout",
     "output_type": "stream",
     "text": [
      "apple\n"
     ]
    }
   ],
   "source": [
    "print(input('很隨便的一段文字'))"
   ]
  },
  {
   "cell_type": "code",
   "execution_count": 18,
   "id": "f5d30914-4f33-4eb3-824f-d8d0bf27bbd8",
   "metadata": {},
   "outputs": [
    {
     "name": "stdout",
     "output_type": "stream",
     "text": [
      "12\n",
      "10 20 30\n",
      "102030\n"
     ]
    },
    {
     "name": "stdin",
     "output_type": "stream",
     "text": [
      "請輸入一段文字 1111888\n"
     ]
    },
    {
     "name": "stdout",
     "output_type": "stream",
     "text": [
      "1111888\n"
     ]
    }
   ],
   "source": [
    "x = 10\n",
    "x = x+2\n",
    "print(x)\n",
    "\n",
    "A,B,C = '10','20','30'\n",
    "D = A+B+C\n",
    "print(A,B,C)\n",
    "print(D)\n",
    "\n",
    "data_in = input('請輸入一段文字')\n",
    "print(data_in)\n"
   ]
  },
  {
   "cell_type": "markdown",
   "id": "27f5fb8c-1e5c-4dba-ba13-193cb2ca730d",
   "metadata": {},
   "source": [
    "# 運算calculate"
   ]
  },
  {
   "cell_type": "code",
   "execution_count": 23,
   "id": "5633e17b-2137-4095-93bb-b2525a75a85e",
   "metadata": {},
   "outputs": [
    {
     "name": "stdout",
     "output_type": "stream",
     "text": [
      "6\n",
      "8\n",
      "5\n",
      "-1\n",
      "0.6666666666666666\n",
      "0\n",
      "2\n"
     ]
    }
   ],
   "source": [
    "print(2*3)\n",
    "print(2**3)\n",
    "print(2+3)\n",
    "print(2-3)\n",
    "print(2/3)\n",
    "print(2//3)\n",
    "print(2%3)"
   ]
  },
  {
   "cell_type": "markdown",
   "id": "726ad1b4-1018-4eae-a2ac-ee5bed241fad",
   "metadata": {},
   "source": [
    "# type function type()"
   ]
  },
  {
   "cell_type": "code",
   "execution_count": 25,
   "id": "01a32261-90de-4382-8423-e6b8078072d5",
   "metadata": {},
   "outputs": [
    {
     "name": "stdout",
     "output_type": "stream",
     "text": [
      "<class 'int'>\n",
      "<class 'float'>\n",
      "<class 'complex'>\n",
      "<class 'bool'>\n",
      "<class 'str'>\n",
      "<class 'float'>\n"
     ]
    }
   ],
   "source": [
    "x1,x2,x3,x4,x5 = 10,10.1,2+1j,True,'A'\n",
    "print(type(x1))\n",
    "print(type(x2))\n",
    "print(type(x3))\n",
    "print(type(x4))\n",
    "print(type(x5))\n",
    "\n",
    "print( type(x1/2) )"
   ]
  },
  {
   "cell_type": "code",
   "execution_count": 37,
   "id": "62b1feeb-167a-4ac7-a8b9-d1d46bdc9925",
   "metadata": {},
   "outputs": [
    {
     "name": "stdout",
     "output_type": "stream",
     "text": [
      "<class 'int'>\n",
      "<class 'float'>\n",
      "<class 'complex'>\n",
      "<class 'bool'>\n",
      "<class 'str'>\n"
     ]
    }
   ],
   "source": [
    "testDemo = [10,10.1,2+1j,True,'A']\n",
    "for a in testDemo:\n",
    "    print( type(a) )"
   ]
  },
  {
   "cell_type": "markdown",
   "id": "4a303ff3-71ed-4b1a-8b60-83d0c07dd8cf",
   "metadata": {},
   "source": [
    "# if else"
   ]
  },
  {
   "cell_type": "code",
   "execution_count": 40,
   "id": "5d7c1bfa-5304-4a5f-8e0c-42fff01d74ab",
   "metadata": {},
   "outputs": [
    {
     "name": "stdout",
     "output_type": "stream",
     "text": [
      "我老婆貓最可愛\n"
     ]
    }
   ],
   "source": [
    "if False:\n",
    "    print('貓貓無敵')\n",
    "elif True:\n",
    "    print('我老婆貓最可愛')\n",
    "else:\n",
    "    print('可愛貓貓')"
   ]
  },
  {
   "cell_type": "code",
   "execution_count": 48,
   "id": "351d3064-04a9-4140-9a8a-f79f5a06177a",
   "metadata": {},
   "outputs": [
    {
     "name": "stdout",
     "output_type": "stream",
     "text": [
      "True\n",
      "x is equal y\n"
     ]
    }
   ],
   "source": [
    "x,y = 10,20\n",
    "print(x!=y)\n",
    "\n",
    "if x==y:\n",
    "    print('x is not equal y')\n",
    "else:\n",
    "    print('x is equal y')"
   ]
  },
  {
   "cell_type": "code",
   "execution_count": 52,
   "id": "a1992f14-adc0-4528-b4b1-4617faf0dbd2",
   "metadata": {},
   "outputs": [
    {
     "name": "stdout",
     "output_type": "stream",
     "text": [
      "True\n"
     ]
    }
   ],
   "source": [
    "t = 'abcdefg'\n",
    "print( \"a\" in t)"
   ]
  },
  {
   "cell_type": "code",
   "execution_count": 57,
   "id": "69ae98d2-1932-4902-b9cd-05404ed6fe1e",
   "metadata": {},
   "outputs": [
    {
     "name": "stdout",
     "output_type": "stream",
     "text": [
      "False\n",
      "----------------------------\n",
      "True\n",
      "False\n",
      "----------------------------\n",
      "False\n"
     ]
    }
   ],
   "source": [
    "x,y = True,False\n",
    "print(not x)\n",
    "\n",
    "print('----------------------------')\n",
    "\n",
    "print(x or y)\n",
    "print( not x or y)\n",
    "\n",
    "print('----------------------------')\n",
    "\n",
    "print(x and y)\n"
   ]
  },
  {
   "cell_type": "markdown",
   "id": "31d0fdbc-2f3b-4047-bc19-fa8faea4cf7a",
   "metadata": {},
   "source": [
    "# 課後練習"
   ]
  },
  {
   "cell_type": "code",
   "execution_count": 68,
   "id": "c346b061-6c40-4b13-8596-1d4ebca2bfa0",
   "metadata": {},
   "outputs": [
    {
     "name": "stdin",
     "output_type": "stream",
     "text": [
      "請輸入數字 52\n"
     ]
    },
    {
     "name": "stdout",
     "output_type": "stream",
     "text": [
      "x is even\n"
     ]
    }
   ],
   "source": [
    "#建立一個輸入框 並判斷輸入的數字是基數還是偶數\n",
    "x=int((input('請輸入數字')))\n",
    "#print(x,type(x))\n",
    "\n",
    "if x%2==0:\n",
    "    print('x is even')\n",
    "else:\n",
    "    print('x is odd')\n"
   ]
  },
  {
   "cell_type": "code",
   "execution_count": 84,
   "id": "7e959810-1204-47d2-a203-baaf30e16a85",
   "metadata": {},
   "outputs": [
    {
     "name": "stdin",
     "output_type": "stream",
     "text": [
      "input number 888\n"
     ]
    },
    {
     "name": "stdout",
     "output_type": "stream",
     "text": [
      "out of range\n"
     ]
    }
   ],
   "source": [
    "#建立一個輸入框 並判斷輸入的數字有沒有在成績區間\n",
    "x = int(input('input number'))\n",
    "#print(x,type(x))\n",
    "\n",
    "if 100>=x>=90:\n",
    "    print('you get A')\n",
    "elif 89>=x>=80:\n",
    "    print('you get B')\n",
    "elif 79>=x>=70:\n",
    "    print('you get c')\n",
    "elif 69>=x>=0:\n",
    "    print('you get F')\n",
    "else:\n",
    "    print('out of range')"
   ]
  },
  {
   "cell_type": "code",
   "execution_count": 99,
   "id": "6300029f-042a-4b90-a17a-2c3bd1577fab",
   "metadata": {},
   "outputs": [
    {
     "name": "stdin",
     "output_type": "stream",
     "text": [
      "input number 37\n"
     ]
    },
    {
     "name": "stdout",
     "output_type": "stream",
     "text": [
      "this number is not multiple of three or five\n"
     ]
    }
   ],
   "source": [
    "#讓使用者輸入一個正整數，判斷該數字是3或5的倍數\n",
    "x= int(input('input number'))\n",
    "#print(x,type(x))\n",
    "\n",
    "if x%3==0 or x%5==0:\n",
    "    print('This number is a multiple of three or five')\n",
    "else:\n",
    "    print('this number is not multiple of three or five')"
   ]
  },
  {
   "cell_type": "code",
   "execution_count": 150,
   "id": "1070ccbd-fe85-497c-8ffb-52ff814c6d37",
   "metadata": {},
   "outputs": [
    {
     "name": "stdin",
     "output_type": "stream",
     "text": [
      "請輸入五張牌(J,Q,K,A,數字) 1\n",
      "請輸入五張牌(J,Q,K,A,數字) 1\n",
      "請輸入五張牌(J,Q,K,A,數字) 1\n",
      "請輸入五張牌(J,Q,K,A,數字) 1\n",
      "請輸入五張牌(J,Q,K,A,數字) J\n"
     ]
    },
    {
     "name": "stdout",
     "output_type": "stream",
     "text": [
      "15\n"
     ]
    }
   ],
   "source": [
    "#請撰寫一程式，讓使用者輸入52張牌中的5張，計算並輸出總和。註：J, Q, K, A 對應 11, 12, 13, 1\n",
    "\n",
    "card_values = {'J': 11, 'Q': 12, 'K': 13, 'A': 1}\n",
    "\n",
    "cards = []\n",
    "for a in range(5):\n",
    "    \n",
    "    card = input('請輸入五張牌(J,Q,K,A,數字)')\n",
    "    \n",
    "    if card in card_values:\n",
    "        card = card_values[card]\n",
    "    else:\n",
    "        card = int(card)\n",
    "    cards.append(card)\n",
    "\n",
    "totle = sum(cards)\n",
    "print(totle)"
   ]
  },
  {
   "cell_type": "code",
   "execution_count": 159,
   "id": "76ff063c-e82d-4a4f-b806-e9169009354c",
   "metadata": {},
   "outputs": [
    {
     "name": "stdin",
     "output_type": "stream",
     "text": [
      "請輸入當月電費: 400\n"
     ]
    },
    {
     "name": "stdout",
     "output_type": "stream",
     "text": [
      "當月電費總金額: 1440.0\n"
     ]
    }
   ],
   "source": [
    "#根據下列標準試算電費  \n",
    "# 電度數 0 - 200 度,每度 3.2 元\n",
    "# 電度數 201 - 300 度,每度 3.4 元\n",
    "# 電度數大於 300 度,每度 3.6 元\n",
    "x=int(input('請輸入當月電費:'))\n",
    "\n",
    "if 200>=x>=0:\n",
    "    x=x*3.2\n",
    "elif 300>=x>=201:\n",
    "    x=x*3.4\n",
    "elif x>301:\n",
    "    x=x*3.6\n",
    "print('當月電費總金額:',x)\n",
    "\n"
   ]
  },
  {
   "cell_type": "code",
   "execution_count": 191,
   "id": "fabc108c-9c36-4283-8441-6ef1818e4431",
   "metadata": {},
   "outputs": [
    {
     "name": "stdin",
     "output_type": "stream",
     "text": [
      "請輸入攝氏溫度: 20\n"
     ]
    },
    {
     "name": "stdout",
     "output_type": "stream",
     "text": [
      "華氏溫度: 68.0 F\n"
     ]
    }
   ],
   "source": [
    "#攝氏/華氏轉換\n",
    "\n",
    "# C= float(input('請輸入華氏溫度:'))\n",
    "F= float(input('請輸入攝氏溫度:'))\n",
    "\n",
    "C=C*5/9-32\n",
    "F=F*9/5+32\n",
    "\n",
    "# print('攝氏溫度:',C)\n",
    "print('華氏溫度:',F,'F')"
   ]
  },
  {
   "cell_type": "code",
   "execution_count": 11,
   "id": "8f311884-d2e3-43d3-b096-4e7b0f1ad585",
   "metadata": {},
   "outputs": [
    {
     "name": "stdin",
     "output_type": "stream",
     "text": [
      "請輸入幾公分: 100\n"
     ]
    },
    {
     "name": "stdout",
     "output_type": "stream",
     "text": [
      "1000.0 公厘\n",
      "1.0 公尺\n",
      "39.4 英吋\n",
      "1.064 碼\n",
      "3.192 英尺\n"
     ]
    }
   ],
   "source": [
    "#長度換算\n",
    "x = float(input('請輸入幾公分:'))\n",
    "\n",
    "mm=x*10\n",
    "m=x*0.01\n",
    "in_=round(x*0.394,3)\n",
    "yd=round(m*1.0636,3)\n",
    "ft=yd*3\n",
    "print(mm,'公厘')\n",
    "print(m,'公尺')\n",
    "print(in_,'英吋')\n",
    "print(yd,'碼')\n",
    "print(ft,'英尺')\n"
   ]
  },
  {
   "cell_type": "code",
   "execution_count": null,
   "id": "b06cc7fa-d94c-40f4-be06-8c2854000f4c",
   "metadata": {},
   "outputs": [],
   "source": []
  }
 ],
 "metadata": {
  "kernelspec": {
   "display_name": "Python 3 (ipykernel)",
   "language": "python",
   "name": "python3"
  },
  "language_info": {
   "codemirror_mode": {
    "name": "ipython",
    "version": 3
   },
   "file_extension": ".py",
   "mimetype": "text/x-python",
   "name": "python",
   "nbconvert_exporter": "python",
   "pygments_lexer": "ipython3",
   "version": "3.11.8"
  }
 },
 "nbformat": 4,
 "nbformat_minor": 5
}
