{
 "cells": [
  {
   "cell_type": "code",
   "execution_count": null,
   "metadata": {},
   "outputs": [],
   "source": [
    "print(\" hello world\" )\n",
    "print(' hello world' )\n",
    "\n",
    "print('A','B','C',sep='-',end='\\n')\n",
    "\n",
    "print(10,10.1,2+1j,True,'A',sep=' ',end='\\n')\n",
    "\n",
    "print('  ','*','  ',sep='', end =\"\\n\") \n",
    "print(' ','***',' ',sep='', end =\"\\n\") \n",
    "print('******',sep='', end =\"\\n\") \n"
   ]
  },
  {
   "cell_type": "code",
   "execution_count": null,
   "metadata": {},
   "outputs": [],
   "source": [
    "\n",
    "\n",
    "x = 10\n",
    "print(x)\n",
    "x = x+2\n",
    "print(x)\n",
    "\n",
    "A,B,C = 'a','b','c'\n",
    "D = A+B+C\n",
    "print(A,B,C)\n",
    "print(D)\n",
    "\n",
    "data_in = input(' insert some phrase  ') # some information\n",
    "print(  data_in  )\n"
   ]
  },
  {
   "cell_type": "code",
   "execution_count": null,
   "metadata": {},
   "outputs": [],
   "source": [
    "a13242___ = 10\n",
    "A_a_23 = 20 \n",
    "_in = 10 "
   ]
  },
  {
   "cell_type": "code",
   "execution_count": null,
   "metadata": {},
   "outputs": [],
   "source": [
    "print(a13242___ )"
   ]
  },
  {
   "cell_type": "markdown",
   "metadata": {},
   "source": [
    "# calculate"
   ]
  },
  {
   "cell_type": "code",
   "execution_count": null,
   "metadata": {},
   "outputs": [],
   "source": [
    "print( 10**2)\n",
    "print(10/5  )\n",
    "print(10//3 )\n",
    "print( 10%2 )\n",
    "print(  (2+3)**2 ) \n",
    "print( 'A'+'B')\n",
    "print( 'A'*10 )\n",
    "print('--------------------')\n",
    "\n",
    "x = 10\n",
    "x/=2\n",
    "print(x)"
   ]
  },
  {
   "cell_type": "markdown",
   "metadata": {},
   "source": [
    "# type function"
   ]
  },
  {
   "cell_type": "code",
   "execution_count": null,
   "metadata": {},
   "outputs": [],
   "source": [
    "x1,x2,x3,x4,x5 = 10,10.1,2+1j,True,'A'\n",
    "print(type(x1))\n",
    "print(type(x2))\n",
    "print(type(x3))\n",
    "print(type(x4))\n",
    "print(type(x5))\n",
    "\n",
    "print( type(x1/2) )\n",
    "\n",
    "x_new = float(x1)\n",
    "x_new1 = str(x1)\n",
    "\n",
    "print(type(x_new))\n",
    "print(type(x_new1))\n",
    "print( bool(1))"
   ]
  },
  {
   "cell_type": "markdown",
   "metadata": {},
   "source": [
    "# if else "
   ]
  },
  {
   "cell_type": "code",
   "execution_count": null,
   "metadata": {},
   "outputs": [],
   "source": [
    "if False:\n",
    "    print('A')\n",
    "    \n",
    "if False:\n",
    "    print('A')\n",
    "    \n",
    "elif False:\n",
    "    print('B')\n",
    "    \n",
    "else:\n",
    "    print('C')\n",
    "\n",
    "X, Y = 10, 20\n",
    "print( X!=Y )\n",
    "\n",
    "  \n",
    "if X==Y:\n",
    "    print('x is not equal to y')\n",
    "else:\n",
    "    print('x is equal to y')\n",
    "    \n",
    "A = 'abcde'\n",
    "print( 'f' in A )"
   ]
  },
  {
   "cell_type": "code",
   "execution_count": null,
   "metadata": {},
   "outputs": [],
   "source": [
    "x, y = True, False\n",
    "print( (not x) )\n",
    "print( (not y) )\n",
    "print( x and y)\n",
    "    "
   ]
  },
  {
   "cell_type": "code",
   "execution_count": null,
   "metadata": {},
   "outputs": [],
   "source": [
    "x = int( input('input number') )\n",
    "# print(x, type(x))\n",
    "\n",
    "if x%2==0:\n",
    "    print(x,'is an even number')\n",
    "else:\n",
    "    print(x,'is an odd number')"
   ]
  },
  {
   "cell_type": "code",
   "execution_count": 2,
   "metadata": {},
   "outputs": [
    {
     "name": "stdout",
     "output_type": "stream",
     "text": [
      "input score61\n",
      "61 level F\n"
     ]
    }
   ],
   "source": [
    "x = int( input('input score') )\n",
    "# print(x, type(x))\n",
    "\n",
    "if x>100 or x<0 :\n",
    "    print('  number error')\n",
    "    \n",
    "elif x>=90:\n",
    "    print(x,'level A')\n",
    "    \n",
    "elif x>=80:\n",
    "    print(x,'level B')\n",
    "    \n",
    "elif x>=70:\n",
    "    print(x,'level C')\n",
    "\n",
    "else:\n",
    "    print(x,'level F')"
   ]
  },
  {
   "cell_type": "code",
   "execution_count": 4,
   "metadata": {},
   "outputs": [
    {
     "name": "stdout",
     "output_type": "stream",
     "text": [
      "False\n"
     ]
    }
   ],
   "source": [
    "false  = False\n",
    "print( false )"
   ]
  },
  {
   "cell_type": "code",
   "execution_count": null,
   "metadata": {},
   "outputs": [],
   "source": []
  }
 ],
 "metadata": {
  "kernelspec": {
   "display_name": "Python 3",
   "language": "python",
   "name": "python3"
  },
  "language_info": {
   "codemirror_mode": {
    "name": "ipython",
    "version": 3
   },
   "file_extension": ".py",
   "mimetype": "text/x-python",
   "name": "python",
   "nbconvert_exporter": "python",
   "pygments_lexer": "ipython3",
   "version": "3.8.4"
  }
 },
 "nbformat": 4,
 "nbformat_minor": 4
}
